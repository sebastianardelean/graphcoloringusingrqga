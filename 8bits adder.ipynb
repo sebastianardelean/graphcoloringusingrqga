{
 "cells": [
  {
   "cell_type": "code",
   "execution_count": 2,
   "metadata": {},
   "outputs": [],
   "source": [
    "import warnings; warnings.simplefilter('ignore')"
   ]
  },
  {
   "cell_type": "code",
   "execution_count": 3,
   "metadata": {},
   "outputs": [],
   "source": [
    "%matplotlib inline\n",
    "# Importing standard Qiskit libraries\n",
    "from qiskit import QuantumCircuit, execute, Aer, IBMQ,QuantumRegister,ClassicalRegister\n",
    "from qiskit.compiler import transpile, assemble\n",
    "from qiskit.tools.jupyter import *\n",
    "from qiskit.visualization import *\n",
    "#from iqx import *\n",
    "\n",
    "# Loading your IBM Q account(s)\n",
    "#provider = IBMQ.load_account()\n",
    "from numpy import flip,array,binary_repr,insert"
   ]
  },
  {
   "cell_type": "code",
   "execution_count": 4,
   "metadata": {},
   "outputs": [],
   "source": [
    "def to_binary(value, number_of_bits, lsb=False):\n",
    "    \"\"\"\n",
    "    Function return binary in MSB\n",
    "    :param value: value that will be converted\n",
    "    :param number_of_bits:\n",
    "    :returns: np.array that represents the binary configuration\n",
    "    >>> to_binary(10,4)\n",
    "    array([1, 0, 1, 0])\n",
    "    >>> to_binary(10,4,True)\n",
    "    array([0, 1, 0, 1])\n",
    "    \"\"\"\n",
    "    if lsb == True:\n",
    "        return flip(array(list(binary_repr(value, number_of_bits)), dtype=int))\n",
    "    return array(list(binary_repr(value, number_of_bits)), dtype=int)"
   ]
  },
  {
   "cell_type": "code",
   "execution_count": 5,
   "metadata": {},
   "outputs": [],
   "source": [
    "def get_adder_instruction():\n",
    "    def majority(circ,a,b,c):\n",
    "        circ.cx(c,b)\n",
    "        circ.cx(c,a)\n",
    "        circ.ccx(a, b, c)\n",
    "    def unmaj(circ,a,b,c):\n",
    "        circ.ccx(a, b, c)\n",
    "        circ.cx(c, a)\n",
    "        circ.cx(a, b)\n",
    "    def adder_4_qubits(p, a0, a1, a2, a3, b0, b1, b2, b3, cin, cout):\n",
    "        majority(p, cin, b0, a0)\n",
    "        majority(p, a0, b1, a1)\n",
    "        majority(p, a1, b2, a2)\n",
    "        majority(p, a2, b3, a3)\n",
    "        p.cx(a3, cout)\n",
    "        unmaj(p, a2, b3, a3)\n",
    "        unmaj(p, a1, b2, a2)\n",
    "        unmaj(p, a0, b1, a1)\n",
    "        unmaj(p, cin, b0, a0)\n",
    "    a = QuantumRegister(8, \"aop\")\n",
    "    b = QuantumRegister(8, \"bop\")\n",
    "    c = QuantumRegister(2, \"carry\")\n",
    "\n",
    "    add_circ = QuantumCircuit(a, b, c,name=\"Add\")\n",
    "    adder_4_qubits(add_circ, a[0], a[1], a[2], a[3], b[0], b[1], b[2], b[3], c[0], c[1])\n",
    "    adder_4_qubits(add_circ, a[4], a[5], a[6], a[7], b[4], b[5], b[6], b[7], c[1], c[0])\n",
    "    add8 = add_circ.to_instruction()\n",
    "    add_circ.draw(output='mpl', plot_barriers=False, filename=\"adder.png\") \n",
    "    return add8"
   ]
  },
  {
   "cell_type": "code",
   "execution_count": 28,
   "metadata": {},
   "outputs": [],
   "source": [
    "a_reg = QuantumRegister(8,\"aqreg\")\n",
    "b_reg = QuantumRegister(8,\"bqreg\")\n",
    "carry= QuantumRegister(2,\"carry\")\n",
    "cc = ClassicalRegister(8,\"cc\")\n",
    "qc = QuantumCircuit(a_reg,b_reg,carry,cc)"
   ]
  },
  {
   "cell_type": "code",
   "execution_count": 29,
   "metadata": {
    "scrolled": false
   },
   "outputs": [],
   "source": [
    "adder_instr = get_adder_instruction()"
   ]
  },
  {
   "cell_type": "code",
   "execution_count": 30,
   "metadata": {},
   "outputs": [
    {
     "name": "stdout",
     "output_type": "stream",
     "text": [
      "[0 0 1 0 1 1 1 1]\t[0 0 0 1 0 0 0 0]\n"
     ]
    }
   ],
   "source": [
    "val_a=to_binary(-12,8,True)\n",
    "val_b=to_binary(8,8,True)\n",
    "print(\"{0}\\t{1}\".format(val_a,val_b))\n",
    "for i in range(0,8):\n",
    "    if val_a[i]==1:\n",
    "        qc.x(a_reg[i])\n",
    "qc.barrier()\n",
    "for i in range(0,8):\n",
    "    if val_b[i]==1:\n",
    "        qc.x(b_reg[i])"
   ]
  },
  {
   "cell_type": "code",
   "execution_count": 23,
   "metadata": {},
   "outputs": [
    {
     "data": {
      "text/html": [
       "<pre style=\"word-wrap: normal;white-space: pre;background: #fff0;line-height: 1.1;font-family: &quot;Courier New&quot;,Courier,monospace\">               ░      ┌───────┐\n",
       "aqreg_0: ──────░──────┤0      ├\n",
       "               ░      │       │\n",
       "aqreg_1: ──────░──────┤1      ├\n",
       "         ┌───┐ ░      │       │\n",
       "aqreg_2: ┤ X ├─░──────┤2      ├\n",
       "         └───┘ ░      │       │\n",
       "aqreg_3: ──────░──────┤3      ├\n",
       "         ┌───┐ ░      │       │\n",
       "aqreg_4: ┤ X ├─░──────┤4      ├\n",
       "         ├───┤ ░      │       │\n",
       "aqreg_5: ┤ X ├─░──────┤5      ├\n",
       "         ├───┤ ░      │       │\n",
       "aqreg_6: ┤ X ├─░──────┤6      ├\n",
       "         ├───┤ ░      │       │\n",
       "aqreg_7: ┤ X ├─░──────┤7      ├\n",
       "         └───┘ ░      │       │\n",
       "bqreg_0: ──────░──────┤8      ├\n",
       "               ░      │   Add │\n",
       "bqreg_1: ──────░──────┤9      ├\n",
       "               ░      │       │\n",
       "bqreg_2: ──────░──────┤10     ├\n",
       "               ░ ┌───┐│       │\n",
       "bqreg_3: ──────░─┤ X ├┤11     ├\n",
       "               ░ └───┘│       │\n",
       "bqreg_4: ──────░──────┤12     ├\n",
       "               ░      │       │\n",
       "bqreg_5: ──────░──────┤13     ├\n",
       "               ░      │       │\n",
       "bqreg_6: ──────░──────┤14     ├\n",
       "               ░      │       │\n",
       "bqreg_7: ──────░──────┤15     ├\n",
       "               ░      │       │\n",
       "carry_0: ──────░──────┤16     ├\n",
       "               ░      │       │\n",
       "carry_1: ──────░──────┤17     ├\n",
       "               ░      └───────┘\n",
       "   cc: 8/══════════════════════\n",
       "                               </pre>"
      ],
      "text/plain": [
       "               ░      ┌───────┐\n",
       "aqreg_0: ──────░──────┤0      ├\n",
       "               ░      │       │\n",
       "aqreg_1: ──────░──────┤1      ├\n",
       "         ┌───┐ ░      │       │\n",
       "aqreg_2: ┤ X ├─░──────┤2      ├\n",
       "         └───┘ ░      │       │\n",
       "aqreg_3: ──────░──────┤3      ├\n",
       "         ┌───┐ ░      │       │\n",
       "aqreg_4: ┤ X ├─░──────┤4      ├\n",
       "         ├───┤ ░      │       │\n",
       "aqreg_5: ┤ X ├─░──────┤5      ├\n",
       "         ├───┤ ░      │       │\n",
       "aqreg_6: ┤ X ├─░──────┤6      ├\n",
       "         ├───┤ ░      │       │\n",
       "aqreg_7: ┤ X ├─░──────┤7      ├\n",
       "         └───┘ ░      │       │\n",
       "bqreg_0: ──────░──────┤8      ├\n",
       "               ░      │   Add │\n",
       "bqreg_1: ──────░──────┤9      ├\n",
       "               ░      │       │\n",
       "bqreg_2: ──────░──────┤10     ├\n",
       "               ░ ┌───┐│       │\n",
       "bqreg_3: ──────░─┤ X ├┤11     ├\n",
       "               ░ └───┘│       │\n",
       "bqreg_4: ──────░──────┤12     ├\n",
       "               ░      │       │\n",
       "bqreg_5: ──────░──────┤13     ├\n",
       "               ░      │       │\n",
       "bqreg_6: ──────░──────┤14     ├\n",
       "               ░      │       │\n",
       "bqreg_7: ──────░──────┤15     ├\n",
       "               ░      │       │\n",
       "carry_0: ──────░──────┤16     ├\n",
       "               ░      │       │\n",
       "carry_1: ──────░──────┤17     ├\n",
       "               ░      └───────┘\n",
       "   cc: 8/══════════════════════\n",
       "                               "
      ]
     },
     "execution_count": 23,
     "metadata": {},
     "output_type": "execute_result"
    }
   ],
   "source": [
    "qc.append(adder_instr,[q for q in range(0,18)])\n",
    "qc.draw()"
   ]
  },
  {
   "cell_type": "code",
   "execution_count": 27,
   "metadata": {},
   "outputs": [
    {
     "name": "stdout",
     "output_type": "stream",
     "text": [
      "[1 1 0 1 0 0 0 0]\t[0 0 1 1 0 0 0 0]\t[1 1 1 0 1 0 0 0]\n"
     ]
    }
   ],
   "source": [
    "a = to_binary(11,8,True)\n",
    "b = to_binary(12,8,True)\n",
    "c = to_binary(23,8,True)\n",
    "print(\"{0}\\t{1}\\t{2}\".format(a,b,c))"
   ]
  },
  {
   "cell_type": "code",
   "execution_count": 25,
   "metadata": {},
   "outputs": [
    {
     "data": {
      "image/png": "[encoded data removed]",
      "text/plain": [
       "<Figure size 504x360 with 1 Axes>"
      ]
     },
     "execution_count": 25,
     "metadata": {},
     "output_type": "execute_result"
    }
   ],
   "source": [
    "qc.measure(b_reg,cc)\n",
    "\n",
    "qasm_simulator = Aer.get_backend('qasm_simulator')\n",
    "shots = 1024\n",
    "results = execute(qc, backend=qasm_simulator, shots=shots).result()\n",
    "answer = results.get_counts()\n",
    "plot_histogram(answer)"
   ]
  },
  {
   "cell_type": "code",
   "execution_count": 26,
   "metadata": {},
   "outputs": [
    {
     "name": "stdout",
     "output_type": "stream",
     "text": [
      "{'11111100': 1024}\n"
     ]
    }
   ],
   "source": [
    "print(answer)"
   ]
  },
  {
   "cell_type": "code",
   "execution_count": null,
   "metadata": {},
   "outputs": [],
   "source": []
  }
 ],
 "metadata": {
  "kernelspec": {
   "display_name": "Python 3",
   "language": "python",
   "name": "python3"
  },
  "language_info": {
   "codemirror_mode": {
    "name": "ipython",
    "version": 3
   },
   "file_extension": ".py",
   "mimetype": "text/x-python",
   "name": "python",
   "nbconvert_exporter": "python",
   "pygments_lexer": "ipython3",
   "version": "3.7.9"
  }
 },
 "nbformat": 4,
 "nbformat_minor": 5
}
