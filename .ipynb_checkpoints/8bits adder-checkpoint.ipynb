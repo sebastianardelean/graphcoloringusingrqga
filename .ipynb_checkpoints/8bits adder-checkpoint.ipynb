{
 "cells": [
  {
   "cell_type": "markdown",
   "id": "adapted-barrel",
   "metadata": {},
   "source": [
    "Implementation of https://arxiv.org/abs/quant-ph/0410184 Quantum Ripple Carry Adder on 8 bits."
   ]
  },
  {
   "cell_type": "code",
   "execution_count": 1,
   "id": "applicable-portable",
   "metadata": {},
   "outputs": [],
   "source": [
    "import warnings; warnings.simplefilter('ignore')"
   ]
  },
  {
   "cell_type": "code",
   "execution_count": 2,
   "id": "painted-floating",
   "metadata": {},
   "outputs": [],
   "source": [
    "%matplotlib inline\n",
    "# Importing standard Qiskit libraries\n",
    "from qiskit import QuantumCircuit, execute, Aer, IBMQ,QuantumRegister,ClassicalRegister\n",
    "from qiskit.compiler import transpile, assemble\n",
    "from qiskit.tools.jupyter import *\n",
    "from qiskit.visualization import *\n",
    "#from iqx import *\n",
    "\n",
    "# Loading your IBM Q account(s)\n",
    "#provider = IBMQ.load_account()\n",
    "from numpy import flip,array,binary_repr,insert"
   ]
  },
  {
   "cell_type": "code",
   "execution_count": 3,
   "id": "absolute-arthritis",
   "metadata": {},
   "outputs": [],
   "source": [
    "def to_binary(value, number_of_bits, lsb=False):\n",
    "    \"\"\"\n",
    "    Function return binary in MSB\n",
    "    :param value: value that will be converted\n",
    "    :param number_of_bits:\n",
    "    :returns: np.array that represents the binary configuration\n",
    "    >>> to_binary(10,4)\n",
    "    array([1, 0, 1, 0])\n",
    "    >>> to_binary(10,4,True)\n",
    "    array([0, 1, 0, 1])\n",
    "    \"\"\"\n",
    "    if lsb == True:\n",
    "        return flip(array(list(binary_repr(value, number_of_bits)), dtype=int))\n",
    "    return array(list(binary_repr(value, number_of_bits)), dtype=int)"
   ]
  },
  {
   "cell_type": "code",
   "execution_count": 7,
   "id": "bibliographic-franchise",
   "metadata": {},
   "outputs": [],
   "source": [
    "def get_adder_instruction():\n",
    "    def majority(circ,a,b,c):\n",
    "        circ.cx(c,b)\n",
    "        circ.cx(c,a)\n",
    "        circ.ccx(a, b, c)\n",
    "    def unmaj(circ,a,b,c):\n",
    "        circ.ccx(a, b, c)\n",
    "        circ.cx(c, a)\n",
    "        circ.cx(a, b)\n",
    "    def adder_4_qubits(p, a0, a1, a2, a3, b0, b1, b2, b3, cin, cout):\n",
    "        majority(p, cin, b0, a0)\n",
    "        majority(p, a0, b1, a1)\n",
    "        majority(p, a1, b2, a2)\n",
    "        majority(p, a2, b3, a3)\n",
    "        p.cx(a3, cout)\n",
    "        unmaj(p, a2, b3, a3)\n",
    "        unmaj(p, a1, b2, a2)\n",
    "        unmaj(p, a0, b1, a1)\n",
    "        unmaj(p, cin, b0, a0)\n",
    "    a = QuantumRegister(8, \"aop\")\n",
    "    b = QuantumRegister(8, \"bop\")\n",
    "    c = QuantumRegister(2, \"carry\")\n",
    "\n",
    "    add_circ = QuantumCircuit(a, b, c,name=\"Add\")\n",
    "    adder_4_qubits(add_circ, a[0], a[1], a[2], a[3], b[0], b[1], b[2], b[3], c[0], c[1])\n",
    "    adder_4_qubits(add_circ, a[4], a[5], a[6], a[7], b[4], b[5], b[6], b[7], c[1], c[0])\n",
    "    add8 = add_circ.to_instruction()\n",
    "    add_circ.draw() \n",
    "    return add8"
   ]
  },
  {
   "cell_type": "code",
   "execution_count": 8,
   "id": "consolidated-profit",
   "metadata": {},
   "outputs": [],
   "source": [
    "a_reg = QuantumRegister(8,\"aqreg\")\n",
    "b_reg = QuantumRegister(8,\"bqreg\")\n",
    "carry= QuantumRegister(2,\"carry\")\n",
    "cc = ClassicalRegister(8,\"cc\")\n",
    "qc = QuantumCircuit(a_reg,b_reg,carry,cc)"
   ]
  },
  {
   "cell_type": "code",
   "execution_count": 9,
   "id": "indirect-weekly",
   "metadata": {
    "scrolled": false
   },
   "outputs": [],
   "source": [
    "adder_instr = get_adder_instruction()"
   ]
  }
 ],
 "metadata": {
  "kernelspec": {
   "display_name": "Python 3",
   "language": "python",
   "name": "python3"
  },
  "language_info": {
   "codemirror_mode": {
    "name": "ipython",
    "version": 3
   },
   "file_extension": ".py",
   "mimetype": "text/x-python",
   "name": "python",
   "nbconvert_exporter": "python",
   "pygments_lexer": "ipython3",
   "version": "3.8.5"
  }
 },
 "nbformat": 4,
 "nbformat_minor": 5
}
