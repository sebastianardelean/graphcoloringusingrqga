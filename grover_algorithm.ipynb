{
 "cells": [
  {
   "cell_type": "code",
   "execution_count": 1,
   "id": "polished-quebec",
   "metadata": {},
   "outputs": [],
   "source": [
    "import warnings; warnings.simplefilter('ignore')"
   ]
  },
  {
   "cell_type": "code",
   "execution_count": 40,
   "id": "intimate-techno",
   "metadata": {},
   "outputs": [],
   "source": [
    "%matplotlib inline\n",
    "# Importing standard Qiskit libraries\n",
    "from qiskit import QuantumCircuit, execute, Aer, IBMQ,QuantumRegister,ClassicalRegister\n",
    "from qiskit.compiler import transpile, assemble\n",
    "from qiskit.tools.jupyter import *\n",
    "from qiskit.visualization import *\n",
    "#from iqx import *\n",
    "\n",
    "# Loading your IBM Q account(s)\n",
    "#provider = IBMQ.load_account()"
   ]
  },
  {
   "cell_type": "code",
   "execution_count": 28,
   "id": "answering-ghost",
   "metadata": {},
   "outputs": [],
   "source": [
    "#Grover Iterations subcircuit\n",
    "def get_grover_iteration_subcircuit(reg_size):\n",
    "    fit_qreg = QuantumRegister(reg_size+1,\"fqreg\")\n",
    "    oracle_ws = QuantumRegister(1,\"ows\")\n",
    "    grover_circ = QuantumCircuit(fit_qreg,oracle_ws,name =\"U$_s$\")\n",
    "\n",
    "    grover_circ.h(fit_qreg)\n",
    "    grover_circ.x(fit_qreg)\n",
    "\n",
    "    grover_circ.h(oracle_ws[0])\n",
    "\n",
    "    grover_circ.mct(list(range(reg_size+1)), oracle_ws[0])  # multi-controlled-toffoli\n",
    "\n",
    "    grover_circ.h(oracle_ws[0])\n",
    "\n",
    "\n",
    "    grover_circ.x(fit_qreg)\n",
    "    grover_circ.h(fit_qreg)\n",
    "    grover_circ.h(oracle_ws)\n",
    "\n",
    "    grover_circ.draw() \n",
    "    return grover_circ.to_instruction()"
   ]
  },
  {
   "cell_type": "code",
   "execution_count": 29,
   "id": "infinite-massage",
   "metadata": {},
   "outputs": [],
   "source": [
    "def init_circuit(qc,qubits):\n",
    "    for q in qubits:\n",
    "        qc.h(q)\n",
    "    return qc"
   ]
  },
  {
   "cell_type": "code",
   "execution_count": 59,
   "id": "impressed-zealand",
   "metadata": {},
   "outputs": [],
   "source": [
    "n = 3 #third qubit is the workspace\n",
    "qreg = QuantumRegister(2,\"qreg\")\n",
    "ows = QuantumRegister(1,\"ws\")\n",
    "creg = ClassicalRegister(2,\"creg\")\n",
    "qc = QuantumCircuit(qreg,ows,creg)\n",
    "\n",
    "qc = init_circuit(qc,[i for i in range(0,n)])"
   ]
  },
  {
   "cell_type": "code",
   "execution_count": 60,
   "id": "measured-hours",
   "metadata": {},
   "outputs": [
    {
     "data": {
      "text/html": [
       "<pre style=\"word-wrap: normal;white-space: pre;background: #fff0;line-height: 1.1;font-family: &quot;Courier New&quot;,Courier,monospace\">        ┌───┐┌───┐     ┌───┐ ░ \n",
       "qreg_0: ┤ H ├┤ X ├──■──┤ X ├─░─\n",
       "        ├───┤└───┘  │  └───┘ ░ \n",
       "qreg_1: ┤ H ├───────■────────░─\n",
       "        ├───┤┌───┐┌─┴─┐┌───┐ ░ \n",
       "  ws_0: ┤ H ├┤ H ├┤ X ├┤ H ├─░─\n",
       "        └───┘└───┘└───┘└───┘ ░ \n",
       "creg: 2/═══════════════════════\n",
       "                               </pre>"
      ],
      "text/plain": [
       "        ┌───┐┌───┐     ┌───┐ ░ \n",
       "qreg_0: ┤ H ├┤ X ├──■──┤ X ├─░─\n",
       "        ├───┤└───┘  │  └───┘ ░ \n",
       "qreg_1: ┤ H ├───────■────────░─\n",
       "        ├───┤┌───┐┌─┴─┐┌───┐ ░ \n",
       "  ws_0: ┤ H ├┤ H ├┤ X ├┤ H ├─░─\n",
       "        └───┘└───┘└───┘└───┘ ░ \n",
       "creg: 2/═══════════════════════\n",
       "                               "
      ]
     },
     "execution_count": 60,
     "metadata": {},
     "output_type": "execute_result"
    }
   ],
   "source": [
    "#Oracle\n",
    "\n",
    "qc.h(2)\n",
    "qc.x(0)\n",
    "#qc.x(1)\n",
    "qc.ccx(0,1,2)\n",
    "qc.x(0)\n",
    "#qc.x(1)\n",
    "qc.h(2)\n",
    "\n",
    "qc.barrier()\n",
    "qc.draw()"
   ]
  },
  {
   "cell_type": "code",
   "execution_count": 61,
   "id": "casual-liver",
   "metadata": {},
   "outputs": [],
   "source": [
    "# qc.h([i for i in range(0,n-1)])\n",
    "# qc.x([i for i in range(0,n-1)])\n",
    "\n",
    "# qc.cz(0,1)\n",
    "\n",
    "# qc.x([i for i in range(0,n-1)])\n",
    "# qc.barrier()\n",
    "# qc.h([i for i in range(0,n)])\n",
    "# qc.draw()"
   ]
  },
  {
   "cell_type": "code",
   "execution_count": 62,
   "id": "inside-catalog",
   "metadata": {},
   "outputs": [
    {
     "data": {
      "text/html": [
       "<pre style=\"word-wrap: normal;white-space: pre;background: #fff0;line-height: 1.1;font-family: &quot;Courier New&quot;,Courier,monospace\">        ┌───┐┌───┐     ┌───┐ ░ ┌────────┐\n",
       "qreg_0: ┤ H ├┤ X ├──■──┤ X ├─░─┤0       ├\n",
       "        ├───┤└───┘  │  └───┘ ░ │        │\n",
       "qreg_1: ┤ H ├───────■────────░─┤1 U$_s$ ├\n",
       "        ├───┤┌───┐┌─┴─┐┌───┐ ░ │        │\n",
       "  ws_0: ┤ H ├┤ H ├┤ X ├┤ H ├─░─┤2       ├\n",
       "        └───┘└───┘└───┘└───┘ ░ └────────┘\n",
       "creg: 2/═════════════════════════════════\n",
       "                                         </pre>"
      ],
      "text/plain": [
       "        ┌───┐┌───┐     ┌───┐ ░ ┌────────┐\n",
       "qreg_0: ┤ H ├┤ X ├──■──┤ X ├─░─┤0       ├\n",
       "        ├───┤└───┘  │  └───┘ ░ │        │\n",
       "qreg_1: ┤ H ├───────■────────░─┤1 U$_s$ ├\n",
       "        ├───┤┌───┐┌─┴─┐┌───┐ ░ │        │\n",
       "  ws_0: ┤ H ├┤ H ├┤ X ├┤ H ├─░─┤2       ├\n",
       "        └───┘└───┘└───┘└───┘ ░ └────────┘\n",
       "creg: 2/═════════════════════════════════\n",
       "                                         "
      ]
     },
     "execution_count": 62,
     "metadata": {},
     "output_type": "execute_result"
    }
   ],
   "source": [
    "grover_instr = get_grover_iteration_subcircuit(1)\n",
    "qc.append(grover_instr,[qreg[0],qreg[1],ows[0]])\n",
    "qc.draw()"
   ]
  },
  {
   "cell_type": "code",
   "execution_count": 63,
   "id": "funny-access",
   "metadata": {},
   "outputs": [
    {
     "data": {
      "text/html": [
       "<pre style=\"word-wrap: normal;white-space: pre;background: #fff0;line-height: 1.1;font-family: &quot;Courier New&quot;,Courier,monospace\">        ┌─────────┐┌───────────┐                                            »\n",
       "qreg_0: ┤ U2(0,π) ├┤ U3(π,0,π) ├───────────────────■─────────────────────■──»\n",
       "        ├─────────┤└───────────┘                   │             ┌───┐   │  »\n",
       "qreg_1: ┤ U2(0,π) ├────────────────────■───────────┼─────────■───┤ T ├───┼──»\n",
       "        ├─────────┤ ┌─────────┐ ┌───┐┌─┴─┐┌─────┐┌─┴─┐┌───┐┌─┴─┐┌┴───┴┐┌─┴─┐»\n",
       "  ws_0: ┤ U2(0,π) ├─┤ U2(0,π) ├─┤ H ├┤ X ├┤ TDG ├┤ X ├┤ T ├┤ X ├┤ TDG ├┤ X ├»\n",
       "        └─────────┘ └─────────┘ └───┘└───┘└─────┘└───┘└───┘└───┘└─────┘└───┘»\n",
       "creg: 2/════════════════════════════════════════════════════════════════════»\n",
       "                                                                            »\n",
       "«              ┌───┐            ┌───────────┐ ░ ┌───┐┌───┐     ┌───┐┌───┐\n",
       "«qreg_0: ──■───┤ T ├──────■─────┤ U3(π,0,π) ├─░─┤ H ├┤ X ├──■──┤ X ├┤ H ├\n",
       "«        ┌─┴─┐┌┴───┴┐   ┌─┴─┐   └───────────┘ ░ ├───┤├───┤  │  ├───┤├───┤\n",
       "«qreg_1: ┤ X ├┤ TDG ├───┤ X ├─────────────────░─┤ H ├┤ X ├──■──┤ X ├┤ H ├\n",
       "«        ├───┤└┬───┬┘┌──┴───┴──┐              ░ ├───┤└───┘┌─┴─┐├───┤├───┤\n",
       "«  ws_0: ┤ T ├─┤ H ├─┤ U2(0,π) ├──────────────░─┤ H ├─────┤ X ├┤ H ├┤ H ├\n",
       "«        └───┘ └───┘ └─────────┘              ░ └───┘     └───┘└───┘└───┘\n",
       "«creg: 2/════════════════════════════════════════════════════════════════\n",
       "«                                                                        </pre>"
      ],
      "text/plain": [
       "        ┌─────────┐┌───────────┐                                            »\n",
       "qreg_0: ┤ U2(0,π) ├┤ U3(π,0,π) ├───────────────────■─────────────────────■──»\n",
       "        ├─────────┤└───────────┘                   │             ┌───┐   │  »\n",
       "qreg_1: ┤ U2(0,π) ├────────────────────■───────────┼─────────■───┤ T ├───┼──»\n",
       "        ├─────────┤ ┌─────────┐ ┌───┐┌─┴─┐┌─────┐┌─┴─┐┌───┐┌─┴─┐┌┴───┴┐┌─┴─┐»\n",
       "  ws_0: ┤ U2(0,π) ├─┤ U2(0,π) ├─┤ H ├┤ X ├┤ TDG ├┤ X ├┤ T ├┤ X ├┤ TDG ├┤ X ├»\n",
       "        └─────────┘ └─────────┘ └───┘└───┘└─────┘└───┘└───┘└───┘└─────┘└───┘»\n",
       "creg: 2/════════════════════════════════════════════════════════════════════»\n",
       "                                                                            »\n",
       "«              ┌───┐            ┌───────────┐ ░ ┌───┐┌───┐     ┌───┐┌───┐\n",
       "«qreg_0: ──■───┤ T ├──────■─────┤ U3(π,0,π) ├─░─┤ H ├┤ X ├──■──┤ X ├┤ H ├\n",
       "«        ┌─┴─┐┌┴───┴┐   ┌─┴─┐   └───────────┘ ░ ├───┤├───┤  │  ├───┤├───┤\n",
       "«qreg_1: ┤ X ├┤ TDG ├───┤ X ├─────────────────░─┤ H ├┤ X ├──■──┤ X ├┤ H ├\n",
       "«        ├───┤└┬───┬┘┌──┴───┴──┐              ░ ├───┤└───┘┌─┴─┐├───┤├───┤\n",
       "«  ws_0: ┤ T ├─┤ H ├─┤ U2(0,π) ├──────────────░─┤ H ├─────┤ X ├┤ H ├┤ H ├\n",
       "«        └───┘ └───┘ └─────────┘              ░ └───┘     └───┘└───┘└───┘\n",
       "«creg: 2/════════════════════════════════════════════════════════════════\n",
       "«                                                                        "
      ]
     },
     "execution_count": 63,
     "metadata": {},
     "output_type": "execute_result"
    }
   ],
   "source": [
    "decomposed_circ = qc.decompose() # Does not modify original circuit\n",
    "decomposed_circ.draw()"
   ]
  },
  {
   "cell_type": "code",
   "execution_count": 64,
   "id": "unavailable-theme",
   "metadata": {},
   "outputs": [
    {
     "data": {
      "text/html": [
       "<pre style=\"word-wrap: normal;white-space: pre;background: #fff0;line-height: 1.1;font-family: &quot;Courier New&quot;,Courier,monospace\">        ┌───┐┌───┐     ┌───┐ ░ ┌────────┐┌─┐   \n",
       "qreg_0: ┤ H ├┤ X ├──■──┤ X ├─░─┤0       ├┤M├───\n",
       "        ├───┤└───┘  │  └───┘ ░ │        │└╥┘┌─┐\n",
       "qreg_1: ┤ H ├───────■────────░─┤1 U$_s$ ├─╫─┤M├\n",
       "        ├───┤┌───┐┌─┴─┐┌───┐ ░ │        │ ║ └╥┘\n",
       "  ws_0: ┤ H ├┤ H ├┤ X ├┤ H ├─░─┤2       ├─╫──╫─\n",
       "        └───┘└───┘└───┘└───┘ ░ └────────┘ ║  ║ \n",
       "creg: 2/══════════════════════════════════╩══╩═\n",
       "                                          0  1 </pre>"
      ],
      "text/plain": [
       "        ┌───┐┌───┐     ┌───┐ ░ ┌────────┐┌─┐   \n",
       "qreg_0: ┤ H ├┤ X ├──■──┤ X ├─░─┤0       ├┤M├───\n",
       "        ├───┤└───┘  │  └───┘ ░ │        │└╥┘┌─┐\n",
       "qreg_1: ┤ H ├───────■────────░─┤1 U$_s$ ├─╫─┤M├\n",
       "        ├───┤┌───┐┌─┴─┐┌───┐ ░ │        │ ║ └╥┘\n",
       "  ws_0: ┤ H ├┤ H ├┤ X ├┤ H ├─░─┤2       ├─╫──╫─\n",
       "        └───┘└───┘└───┘└───┘ ░ └────────┘ ║  ║ \n",
       "creg: 2/══════════════════════════════════╩══╩═\n",
       "                                          0  1 "
      ]
     },
     "execution_count": 64,
     "metadata": {},
     "output_type": "execute_result"
    }
   ],
   "source": [
    "qc.measure(qreg,creg)\n",
    "qc.draw()"
   ]
  },
  {
   "cell_type": "code",
   "execution_count": 65,
   "id": "educational-celebration",
   "metadata": {},
   "outputs": [
    {
     "data": {
      "image/png": "[encoded data removed]",
      "text/plain": [
       "<Figure size 504x360 with 1 Axes>"
      ]
     },
     "execution_count": 65,
     "metadata": {},
     "output_type": "execute_result"
    }
   ],
   "source": [
    "\n",
    "qasm_simulator = Aer.get_backend('qasm_simulator')\n",
    "shots = 1024\n",
    "results = execute(qc, backend=qasm_simulator, shots=shots).result()\n",
    "answer = results.get_counts()\n",
    "plot_histogram(answer)"
   ]
  },
  {
   "cell_type": "code",
   "execution_count": null,
   "id": "incorrect-breakfast",
   "metadata": {},
   "outputs": [],
   "source": []
  }
 ],
 "metadata": {
  "kernelspec": {
   "display_name": "Python 3",
   "language": "python",
   "name": "python3"
  },
  "language_info": {
   "codemirror_mode": {
    "name": "ipython",
    "version": 3
   },
   "file_extension": ".py",
   "mimetype": "text/x-python",
   "name": "python",
   "nbconvert_exporter": "python",
   "pygments_lexer": "ipython3",
   "version": "3.8.5"
  }
 },
 "nbformat": 4,
 "nbformat_minor": 5
}
